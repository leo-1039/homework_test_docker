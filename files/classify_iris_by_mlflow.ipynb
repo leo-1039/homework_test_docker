{
 "cells": [
  {
   "cell_type": "code",
   "execution_count": 1,
   "id": "independent-estimate",
   "metadata": {},
   "outputs": [],
   "source": [
    "#測試從 mlFLow 把訓練好的模型拉回來跑 classify\n",
    "import sklearn\n",
    "from sklearn import datasets\n",
    "import matplotlib.pyplot as plt\n",
    "import numpy as np\n",
    "from sklearn.model_selection import train_test_split\n",
    "from sklearn.preprocessing import StandardScaler\n",
    "from sklearn import preprocessing\n",
    "from sklearn.preprocessing import OneHotEncoder\n",
    "from sklearn.neural_network import MLPClassifier\n",
    "\n",
    "import mlflow\n",
    "import mlflow.sklearn"
   ]
  },
  {
   "cell_type": "code",
   "execution_count": 2,
   "id": "concrete-values",
   "metadata": {},
   "outputs": [
    {
     "name": "stdout",
     "output_type": "stream",
     "text": [
      "[[5.1 3.5 1.4 0.2]\n",
      " [4.9 3.  1.4 0.2]\n",
      " [4.7 3.2 1.3 0.2]\n",
      " [4.6 3.1 1.5 0.2]\n",
      " [5.  3.6 1.4 0.2]]\n",
      "[0 0 0 0 0]\n",
      "[[-0.90068117  1.01900435 -1.34022653 -1.3154443 ]\n",
      " [-1.14301691 -0.13197948 -1.34022653 -1.3154443 ]\n",
      " [-1.38535265  0.32841405 -1.39706395 -1.3154443 ]\n",
      " [-1.50652052  0.09821729 -1.2833891  -1.3154443 ]\n",
      " [-1.02184904  1.24920112 -1.34022653 -1.3154443 ]]\n",
      "[[1. 0. 0.]\n",
      " [1. 0. 0.]\n",
      " [1. 0. 0.]\n",
      " [1. 0. 0.]\n",
      " [1. 0. 0.]]\n"
     ]
    }
   ],
   "source": [
    "#讀 data 和訓練時一樣\n",
    "iris = datasets.load_iris()\n",
    "X = iris.data\n",
    "y = iris.target\n",
    "print(X[0:5])\n",
    "print(y[0:5])\n",
    "#X做scale\n",
    "X = preprocessing.scale(X)\n",
    "print(X[0:5])\n",
    "#y轉one hot\n",
    "oneHotEncoder = preprocessing.OneHotEncoder()\n",
    "y = oneHotEncoder.fit_transform(y.reshape(-1, 1)).toarray() #OneHotEncoder吃2D，然後y是1D，所以要reshape\n",
    "print(y[0:5])\n",
    "X_train, X_test, y_train, y_test = train_test_split(X, y, test_size = 0.2)"
   ]
  },
  {
   "cell_type": "code",
   "execution_count": 3,
   "id": "genuine-mention",
   "metadata": {},
   "outputs": [],
   "source": [
    "#這邊不訓練直接拉模型回來\n",
    "mlp = mlflow.sklearn.load_model('file:///home/jovyan/work/mlruns/1/52d6eab4e4564bf7903e77ed22535dfe/artifacts/model')"
   ]
  },
  {
   "cell_type": "code",
   "execution_count": 4,
   "id": "discrete-turkey",
   "metadata": {},
   "outputs": [
    {
     "name": "stdout",
     "output_type": "stream",
     "text": [
      "MLPClassifier(alpha=0.001, hidden_layer_sizes=(10, 10, 10), max_iter=1000,\n",
      "              random_state=1234, solver='lbfgs')\n",
      "train accuracy: 0.983333\n",
      "test accuracy: 1.000000\n",
      "\n",
      "\n"
     ]
    }
   ],
   "source": [
    "#預測\n",
    "predict_train = mlp.predict(X_train)\n",
    "predict_test = mlp.predict(X_test)\n",
    "train_acc = sklearn.metrics.accuracy_score(predict_train, y_train)\n",
    "test_acc = sklearn.metrics.accuracy_score(predict_test, y_test)\n",
    "print(mlp)\n",
    "print(\"train accuracy: %f\" % (train_acc))\n",
    "print(\"test accuracy: %f\\n\\n\" % (test_acc))"
   ]
  },
  {
   "cell_type": "code",
   "execution_count": null,
   "id": "efficient-success",
   "metadata": {},
   "outputs": [],
   "source": []
  }
 ],
 "metadata": {
  "kernelspec": {
   "display_name": "Python 3",
   "language": "python",
   "name": "python3"
  },
  "language_info": {
   "codemirror_mode": {
    "name": "ipython",
    "version": 3
   },
   "file_extension": ".py",
   "mimetype": "text/x-python",
   "name": "python",
   "nbconvert_exporter": "python",
   "pygments_lexer": "ipython3",
   "version": "3.8.8"
  }
 },
 "nbformat": 4,
 "nbformat_minor": 5
}
