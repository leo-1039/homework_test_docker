{
 "cells": [
  {
   "cell_type": "code",
   "execution_count": 1,
   "id": "handled-depression",
   "metadata": {},
   "outputs": [],
   "source": [
    "#iris test\n",
    "import sklearn\n",
    "from sklearn import datasets\n",
    "import matplotlib.pyplot as plt\n",
    "# 嗯...這環境沒 tensorflow 也沒 keras ，反正弄 iris 而已，直接用 sklearn 跑吧\n",
    "#import tensorflow\n",
    "#from tensorflow.keras.models import Sequential\n",
    "#from tensorflow.keras.layers.core import Dense, Activation\n",
    "import numpy as np\n",
    "from sklearn.model_selection import train_test_split\n",
    "from sklearn.preprocessing import StandardScaler\n",
    "from sklearn import preprocessing\n",
    "from sklearn.preprocessing import OneHotEncoder\n",
    "\n",
    "from sklearn.neural_network import MLPClassifier\n",
    "\n",
    "import mlflow\n",
    "import mlflow.sklearn"
   ]
  },
  {
   "cell_type": "code",
   "execution_count": 2,
   "id": "lightweight-onion",
   "metadata": {},
   "outputs": [
    {
     "name": "stdout",
     "output_type": "stream",
     "text": [
      "[[5.1 3.5 1.4 0.2]\n",
      " [4.9 3.  1.4 0.2]\n",
      " [4.7 3.2 1.3 0.2]\n",
      " [4.6 3.1 1.5 0.2]\n",
      " [5.  3.6 1.4 0.2]]\n",
      "[0 0 0 0 0]\n",
      "[[-0.90068117  1.01900435 -1.34022653 -1.3154443 ]\n",
      " [-1.14301691 -0.13197948 -1.34022653 -1.3154443 ]\n",
      " [-1.38535265  0.32841405 -1.39706395 -1.3154443 ]\n",
      " [-1.50652052  0.09821729 -1.2833891  -1.3154443 ]\n",
      " [-1.02184904  1.24920112 -1.34022653 -1.3154443 ]]\n",
      "[[1. 0. 0.]\n",
      " [1. 0. 0.]\n",
      " [1. 0. 0.]\n",
      " [1. 0. 0.]\n",
      " [1. 0. 0.]]\n"
     ]
    }
   ],
   "source": [
    "iris = datasets.load_iris()\n",
    "X = iris.data\n",
    "y = iris.target\n",
    "print(X[0:5])\n",
    "print(y[0:5])\n",
    "#X做scale\n",
    "X = preprocessing.scale(X)\n",
    "print(X[0:5])\n",
    "#y轉one hot\n",
    "oneHotEncoder = preprocessing.OneHotEncoder()\n",
    "y = oneHotEncoder.fit_transform(y.reshape(-1, 1)).toarray() #OneHotEncoder吃2D，然後y是1D，所以要reshape\n",
    "print(y[0:5])\n",
    "X_train, X_test, y_train, y_test = train_test_split(X, y, test_size = 0.2)"
   ]
  },
  {
   "cell_type": "code",
   "execution_count": 3,
   "id": "rough-shoulder",
   "metadata": {},
   "outputs": [
    {
     "name": "stdout",
     "output_type": "stream",
     "text": [
      "Experiment test_iris already exists\n",
      "Name: test_iris\n",
      "Experiment_id: 1\n",
      "Artifact Location: file:///home/jovyan/work/mlruns/1\n",
      "Tags: {}\n",
      "Lifecycle_stage: active\n"
     ]
    }
   ],
   "source": [
    "#設置 mlflow experiment\n",
    "try:\n",
    "    experiment_id = mlflow.create_experiment(name = \"test_iris\")\n",
    "except:\n",
    "    print(\"Experiment test_iris already exists\")\n",
    "    experiment_id = '1'\n",
    "experiment = mlflow.get_experiment(experiment_id)\n",
    "print(\"Name: {}\".format(experiment.name))\n",
    "print(\"Experiment_id: {}\".format(experiment.experiment_id))\n",
    "print(\"Artifact Location: {}\".format(experiment.artifact_location))\n",
    "print(\"Tags: {}\".format(experiment.tags))\n",
    "print(\"Lifecycle_stage: {}\".format(experiment.lifecycle_stage))"
   ]
  },
  {
   "cell_type": "code",
   "execution_count": 4,
   "id": "opponent-country",
   "metadata": {},
   "outputs": [
    {
     "name": "stdout",
     "output_type": "stream",
     "text": [
      "MLPClassifier(alpha=0.001, hidden_layer_sizes=(10, 10, 10), max_iter=1000,\n",
      "              random_state=1234)\n",
      "loss = 0.095996\n",
      "MLPClassifier(alpha=0.001, hidden_layer_sizes=(10, 10, 10), max_iter=1000,\n",
      "              random_state=1234, solver='lbfgs')\n",
      "loss = 0.056494\n",
      "MLPClassifier(alpha=0.001, hidden_layer_sizes=(10, 20), max_iter=1000,\n",
      "              random_state=1234)\n",
      "loss = 0.100154\n",
      "MLPClassifier(alpha=0.001, hidden_layer_sizes=(10, 20), max_iter=1000,\n",
      "              random_state=1234, solver='lbfgs')\n",
      "loss = 0.050242\n",
      "MLPClassifier(alpha=0.001, hidden_layer_sizes=(20, 40), max_iter=1000,\n",
      "              random_state=1234)\n",
      "loss = 0.084833\n",
      "MLPClassifier(alpha=0.001, hidden_layer_sizes=(20, 40), max_iter=1000,\n",
      "              random_state=1234, solver='lbfgs')\n",
      "loss = 0.001007\n"
     ]
    }
   ],
   "source": [
    "#訓練\n",
    "layer_sizes = [(10, 10, 10), (10, 20), (20, 40)]\n",
    "solvers = [\"adam\", \"lbfgs\"]\n",
    "mlps = []\n",
    "\n",
    "\n",
    "for sizeArg in layer_sizes:\n",
    "    for solverArg in solvers:\n",
    "        with mlflow.start_run(experiment_id = experiment_id):\n",
    "            mlp = MLPClassifier(max_iter = 1000, solver = solverArg, alpha = 0.001, hidden_layer_sizes = sizeArg, random_state = 1234)\n",
    "            mlp.fit(X_train, y_train)\n",
    "            mlflow.log_param(\"sizeArg\", sizeArg)\n",
    "            mlflow.log_param(\"solverArg\", solverArg)\n",
    "            mlflow.log_metric(\"loss\", mlp.loss_)\n",
    "            mlflow.log_metric(\"score\", mlp.score(X_train, y_train))\n",
    "            print(mlp)\n",
    "            print(\"loss = %f\" % (mlp.loss_))\n",
    "            mlflow.sklearn.log_model(mlp, \"model\")\n",
    "            mlps.append(mlp)"
   ]
  },
  {
   "cell_type": "code",
   "execution_count": 5,
   "id": "beautiful-comparison",
   "metadata": {},
   "outputs": [
    {
     "name": "stdout",
     "output_type": "stream",
     "text": [
      "MLPClassifier(alpha=0.001, hidden_layer_sizes=(10, 10, 10), max_iter=1000,\n",
      "              random_state=1234)\n",
      "train accuracy: 0.975000\n",
      "test accuracy: 0.966667\n",
      "\n",
      "\n",
      "MLPClassifier(alpha=0.001, hidden_layer_sizes=(10, 10, 10), max_iter=1000,\n",
      "              random_state=1234, solver='lbfgs')\n",
      "train accuracy: 0.983333\n",
      "test accuracy: 0.966667\n",
      "\n",
      "\n",
      "MLPClassifier(alpha=0.001, hidden_layer_sizes=(10, 20), max_iter=1000,\n",
      "              random_state=1234)\n",
      "train accuracy: 0.975000\n",
      "test accuracy: 0.966667\n",
      "\n",
      "\n",
      "MLPClassifier(alpha=0.001, hidden_layer_sizes=(10, 20), max_iter=1000,\n",
      "              random_state=1234, solver='lbfgs')\n",
      "train accuracy: 0.983333\n",
      "test accuracy: 0.966667\n",
      "\n",
      "\n",
      "MLPClassifier(alpha=0.001, hidden_layer_sizes=(20, 40), max_iter=1000,\n",
      "              random_state=1234)\n",
      "train accuracy: 0.991667\n",
      "test accuracy: 0.966667\n",
      "\n",
      "\n",
      "MLPClassifier(alpha=0.001, hidden_layer_sizes=(20, 40), max_iter=1000,\n",
      "              random_state=1234, solver='lbfgs')\n",
      "train accuracy: 1.000000\n",
      "test accuracy: 0.966667\n",
      "\n",
      "\n"
     ]
    }
   ],
   "source": [
    "#預測\n",
    "for mlp in mlps:\n",
    "    predict_train = mlp.predict(X_train)\n",
    "    predict_test = mlp.predict(X_test)\n",
    "    train_acc = sklearn.metrics.accuracy_score(predict_train, y_train)\n",
    "    test_acc = sklearn.metrics.accuracy_score(predict_test, y_test)\n",
    "    print(mlp)\n",
    "    print(\"train accuracy: %f\" % (train_acc))\n",
    "    print(\"test accuracy: %f\\n\\n\" % (test_acc))"
   ]
  },
  {
   "cell_type": "code",
   "execution_count": null,
   "id": "living-albania",
   "metadata": {},
   "outputs": [],
   "source": []
  }
 ],
 "metadata": {
  "kernelspec": {
   "display_name": "Python 3",
   "language": "python",
   "name": "python3"
  },
  "language_info": {
   "codemirror_mode": {
    "name": "ipython",
    "version": 3
   },
   "file_extension": ".py",
   "mimetype": "text/x-python",
   "name": "python",
   "nbconvert_exporter": "python",
   "pygments_lexer": "ipython3",
   "version": "3.8.8"
  }
 },
 "nbformat": 4,
 "nbformat_minor": 5
}
